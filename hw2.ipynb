{
 "cells": [
  {
   "cell_type": "markdown",
   "metadata": {},
   "source": [
    "Homework 2\n",
    "\n",
    "## Question 1\n",
    "\n",
    "- (a) Imagine you want your robot to perform navigation tasks, which approach would you choose?\n",
    "```\n",
    "I will choose Behavior Based Planning (motion planning), since it design the robot performs like a individual person to do the decision, I think it will perform better in the future.\n",
    "```\n",
    "\n",
    "- (b) What are the benefits of the behavior based paradigm?\n",
    "```\n",
    "1. Stronger adaptability, it do not need global management, but decide by itself.\n",
    "2. Becoming better with longer usage time, tight coupling between perception and action.\n",
    "3. Support good software design principles due to modularity.\n",
    "```\n",
    "\n",
    "- (c) Which approaches will win in the long run?\n",
    "```\n",
    "Behavior Based Planning (motion planning), since the robot itself learn more and react better.\n",
    "```\n",
    "\n",
    "## Question 2\n",
    "\n",
    "- (a) How to generate uniform, perpendicular, attractive, repulse, tangential forces for a robot and obstacles with known positions? Provide related mathematical formulas.\n",
    "- uniform: \\overrightarrow{v} = \\overrightarrow{v_0}\n",
    "\n",
    "- (b) Please simulate the motions of a robot with the given force fields from the following figure. \n"
   ]
  },
  {
   "cell_type": "markdown",
   "metadata": {},
   "source": []
  },
  {
   "cell_type": "code",
   "execution_count": null,
   "metadata": {},
   "outputs": [],
   "source": []
  }
 ],
 "metadata": {
  "language_info": {
   "name": "python"
  }
 },
 "nbformat": 4,
 "nbformat_minor": 2
}
